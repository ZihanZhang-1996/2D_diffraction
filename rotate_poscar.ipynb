{
 "cells": [
  {
   "cell_type": "code",
   "execution_count": 45,
   "id": "820f2bba-4997-4d41-9cc7-78df441d2976",
   "metadata": {},
   "outputs": [],
   "source": [
    "import numpy as np\n",
    "import os\n",
    "import shutil"
   ]
  },
  {
   "cell_type": "code",
   "execution_count": 46,
   "id": "abd1fe9e-2869-437a-9b5b-27de709d4a7d",
   "metadata": {},
   "outputs": [],
   "source": [
    "def rotation_matrix(u,theta):\n",
    "    \"\"\"\n",
    "    description:\n",
    "    generates a 3x3 rotation matrix given an axis and angle\n",
    "    \n",
    "    inputs: \n",
    "    u = unit vector for rotation axis given as a list [ux, uy, uz]\n",
    "    theta = angle for rotation in radians\n",
    "    \n",
    "    output:\n",
    "    Rotation matrix as a 3x3 numpy array\n",
    "    \"\"\"\n",
    "    ux = u[0]\n",
    "    uy = u[1]\n",
    "    uz = u[2]\n",
    "    R = np.zeros((3,3))\n",
    "    R[0,0] = np.cos(theta)+ux**2*(1-np.cos(theta))\n",
    "    R[0,1] = ux*uy*(1-np.cos(theta))-uz*np.sin(theta)\n",
    "    R[0,2] = ux*uz*(1-np.cos(theta))+uy*np.sin(theta)\n",
    "    R[1,0] = uy*ux*(1-np.cos(theta))+uz*np.sin(theta)\n",
    "    R[1,1] = np.cos(theta)+uy**2*(1-np.cos(theta))\n",
    "    R[1,2] = uy*uz*(1-np.cos(theta))-ux*np.sin(theta)\n",
    "    R[2,0] = uz*ux*(1-np.cos(theta))-uy*np.sin(theta)\n",
    "    R[2,1] = uz*uy*(1-np.cos(theta))+ux*np.sin(theta)\n",
    "    R[2,2] = np.cos(theta)+uz**2*(1-np.cos(theta))\n",
    "    \n",
    "    return R"
   ]
  },
  {
   "cell_type": "code",
   "execution_count": 56,
   "id": "08a5a3dc-2b7f-4c0e-a4fa-9c8ec4a700f1",
   "metadata": {},
   "outputs": [
    {
     "name": "stdout",
     "output_type": "stream",
     "text": [
      "old cell:\n",
      "[[14.31  0.    0.  ]\n",
      " [ 2.44  4.27  0.  ]\n",
      " [12.21 10.17 24.64]]\n",
      "new cell:\n",
      "[[14.31  0.    0.  ]\n",
      " [ 2.44  1.63 -3.94]\n",
      " [12.21 26.66  0.  ]]\n"
     ]
    }
   ],
   "source": [
    "# enter the path for your poscar (you can create this by exporting a vesta CIF)\n",
    "# make sure the poscar is generated with fractional (direct) coordinates\n",
    "poscar_path = '/Users/Thomas2/Desktop/2D_diffraction-main/Casey_N2200/N2000_UofA_MD_DFT.vasp'\n",
    "save_name = 'N2200_UA_faceon.vasp' # this will be how the saved poscar is named\n",
    "\n",
    "#copy the existing poscar file to a new poscar with specified name\n",
    "working_dir = os.path.dirname(poscar_path)\n",
    "save_path = working_dir + '/' + save_name\n",
    "shutil.copyfile(poscar_path, save_path)\n",
    "\n",
    "# grab the unit cell vectors from the poscar\n",
    "# Remember these are not necessarily perpendicular!\n",
    "cell_vects = np.loadtxt(poscar_path, skiprows=2, max_rows=3)\n",
    "print('old cell:'+'\\n'+np.array_str(cell_vects, precision=2, suppress_small=True))\n",
    "cell_a = cell_vects[0,:]\n",
    "cell_b = cell_vects[1,:]\n",
    "cell_c = cell_vects[2,:]\n",
    "\n",
    "#specify which two vectors you would like to make parallel here\n",
    "vect1 = np.cross(cell_a, cell_c)\n",
    "vect2 = np.asarray([0,0,1])\n",
    "\n",
    "#calculate the rotation unit axis between the two vectors\n",
    "rot_axis = np.cross(vect1, vect2)\n",
    "unit_rot_axis = rot_axis/np.linalg.norm(rot_axis)\n",
    "\n",
    "#calculate the angle between the two vectors\n",
    "rot_theta = np.arccos(np.dot(vect1, vect2)/\n",
    "                      (np.linalg.norm(vect1)*np.linalg.norm(vect2)))\n",
    "\n",
    "#generate a rotation matrix\n",
    "rot_matrix = rotation_matrix(unit_rot_axis, rot_theta)\n",
    "\n",
    "#rotate the old cell unit vectors\n",
    "new_cell_a = np.matmul(rot_matrix, cell_a)\n",
    "new_cell_b = np.matmul(rot_matrix, cell_b)\n",
    "new_cell_c = np.matmul(rot_matrix, cell_c)\n",
    "\n",
    "#generate a new cell matrix\n",
    "new_cell = np.stack((new_cell_a, new_cell_b, new_cell_c))\n",
    "print('new cell:'+'\\n'+np.array_str(new_cell, precision=2, suppress_small=True))\n",
    "\n",
    "# Write the new cell to the poscar \n",
    "# Read the existing text file\n",
    "with open(save_path, 'r') as file:\n",
    "    lines = file.readlines()\n",
    "# Split the array string into separate lines\n",
    "array_lines = array_string.split('\\n')\n",
    "# Replace lines 3,4,and 5\n",
    "lines[2] = '\\t' + '\\t'.join(map(lambda x: f\"{x:.10f}\", new_cell[0,:])) + '\\n'\n",
    "lines[3] = '\\t' + '\\t'.join(map(lambda x: f\"{x:.10f}\", new_cell[1,:])) + '\\n'\n",
    "lines[4] = '\\t' + '\\t'.join(map(lambda x: f\"{x:.10f}\", new_cell[2,:])) + '\\n'\n",
    "# Write the modified content back to the file\n",
    "with open(save_path, 'w') as file:\n",
    "    file.writelines(lines)\n",
    "file.close()"
   ]
  }
 ],
 "metadata": {
  "kernelspec": {
   "display_name": "Python 3 (ipykernel)",
   "language": "python",
   "name": "python3"
  },
  "language_info": {
   "codemirror_mode": {
    "name": "ipython",
    "version": 3
   },
   "file_extension": ".py",
   "mimetype": "text/x-python",
   "name": "python",
   "nbconvert_exporter": "python",
   "pygments_lexer": "ipython3",
   "version": "3.10.6"
  }
 },
 "nbformat": 4,
 "nbformat_minor": 5
}
